{
 "cells": [
  {
   "cell_type": "markdown",
   "metadata": {},
   "source": [
    "\n",
    "# Use parametric statistics for group comparison\n",
    "\n",
    "As a contrast to the approach presented in other examples, we also present a\n",
    "more \"standard\" statistical approach to analyze tract profile data. Here, we\n",
    "will conduct a point-by-point group comparison using a linear model fit using\n",
    "the standard ordinary least squares (OLS) method.\n",
    "\n",
    "This example first fetches the ALS classification dataset from ([Sarica et al, 2017](https://doi.org/10.1002/hbm.23412)). This dataset contains \n",
    "tractometry features from 24 patients with ALS and 24 demographically matched \n",
    "control subjects. It then uses the statsmodels library to compare between the \n",
    "tract profiles of the two groups in one tract (the left corticospinal tract) \n",
    "and in one feature (FA)."
   ]
  },
  {
   "cell_type": "code",
   "execution_count": null,
   "metadata": {
    "jupyter": {
     "outputs_hidden": false
    }
   },
   "outputs": [],
   "source": [
    "from paths import afq_home\n",
    "\n",
    "import os.path as op\n",
    "\n",
    "import matplotlib.pyplot as plt\n",
    "\n",
    "from afqinsight import AFQDataset\n",
    "from afqinsight.parametric import node_wise_regression\n",
    "from afqinsight.plot import plot_regression_profiles"
   ]
  },
  {
   "cell_type": "markdown",
   "metadata": {},
   "source": [
    "## Read data from Sarica et al.\n",
    "\n",
    "The `nodes.csv` file, which is the input here is the output of pyAFQ processing. The `subjects.csv` file contains phenotypic data (in this case, whether they have ALS or not in the variable \"class\") and uses the same subject identifiers as those that are stored in the pyAFQ output. This allows AFQ-Insight to merge the data between the two files."
   ]
  },
  {
   "cell_type": "code",
   "execution_count": null,
   "metadata": {
    "jupyter": {
     "outputs_hidden": false
    }
   },
   "outputs": [],
   "source": [
    "afqdata = AFQDataset.from_files(op.join(afq_home, \"afq-insight/sarica/nodes.csv\"), \n",
    "                                op.join(afq_home, \"afq-insight/sarica/subjects.csv\"),\n",
    "                                dwi_metrics=[\"fa\", \"md\"], \n",
    "                                target_cols=[\"class\"], \n",
    "                                label_encode_cols=[\"class\"])"
   ]
  },
  {
   "cell_type": "markdown",
   "metadata": {
    "collapsed": false,
    "jupyter": {
     "outputs_hidden": false
    }
   },
   "source": [
    "## Specify the tracts of interest\n",
    "\n",
    "Many times we have a specific set of tracts we want to analyze. We can specify\n",
    "those tracts using a list with each tract of interest"
   ]
  },
  {
   "cell_type": "code",
   "execution_count": null,
   "metadata": {
    "jupyter": {
     "outputs_hidden": false
    }
   },
   "outputs": [],
   "source": [
    "tracts = [\"Left Arcuate\", \"Right Arcuate\", \"Left Corticospinal\", \"Right Corticospinal\"]"
   ]
  },
  {
   "cell_type": "markdown",
   "metadata": {
    "collapsed": false,
    "jupyter": {
     "outputs_hidden": false
    }
   },
   "source": [
    "## Set up plot, run linear models, and show the results\n",
    "\n",
    "With the next few lines of code, we fit a linear model in order to predict\n",
    "group differences in the diffusion properties of our tracts of interest. The\n",
    "function `node_wise_regression` does this by looping through each node of a\n",
    "tract and predicting our diffusion metric, in this case FA, as a function of\n",
    "group. The initializer `OLS.from_formula` takes [R-style formulas](https://www.statsmodels.org/dev/example_formulas.html) as its model specification.\n",
    "Here, we are using the `\"group\"` variable as a categorical variable in the model.\n",
    "We can also specify linear-mixed effects models for more complex phenotypic data\n",
    "by passing in the appropriate model formula and setting `lme=True`.\n",
    "\n",
    "Because we conducted 100 comparisons, we need to correct the p-values that\n",
    "we obtained for the potential for a false discovery. There are multiple\n",
    "ways to conduct multiple comparison correction, and we will not get into\n",
    "the considerations in selecting a method here. The function `node_wise_regression`\n",
    "uses Benjamini/Hochberg FDR controlling method. This returns a boolean array for\n",
    "the p-values that are rejected at a specified alpha level (after correction),\n",
    "as well as an array of the corrected p-values."
   ]
  },
  {
   "cell_type": "code",
   "execution_count": null,
   "metadata": {
    "jupyter": {
     "outputs_hidden": false
    }
   },
   "outputs": [],
   "source": [
    "num_cols = 2\n",
    "\n",
    "# Define the figure and grid\n",
    "fig, axes = plt.subplots(nrows=2, ncols=num_cols, figsize=(10, 6))\n",
    "\n",
    "\n",
    "# Loop through the data and generate plots\n",
    "for i, tract in enumerate(tracts):\n",
    "    # fit node-wise regression for each tract based on model formula\n",
    "    tract_dict = node_wise_regression(afqdata, tract, \"fa\", \"fa ~ C(group)\")\n",
    "\n",
    "    row = i // num_cols\n",
    "    col = i % num_cols\n",
    "\n",
    "    axes[row][col].set_title(tract)\n",
    "\n",
    "    # Visualize\n",
    "    # ----------\n",
    "    # We can visualize the results with the `plot_regression_profiles`\n",
    "    # function. Each subplot shows the tract profiles of the two groups,\n",
    "    # while controlling for any covariates, with stars indicating the nodes\n",
    "    # at which the null hypothesis is rejected.\n",
    "\n",
    "    plot_regression_profiles(tract_dict, axes[row][col])\n",
    "\n",
    "# Adjust layout to prevent overlap\n",
    "plt.tight_layout()\n",
    "\n",
    "# Show the plot\n",
    "plt.show()"
   ]
  }
 ],
 "metadata": {
  "kernelspec": {
   "display_name": "Python 3 (ipykernel)",
   "language": "python",
   "name": "python3"
  },
  "language_info": {
   "codemirror_mode": {
    "name": "ipython",
    "version": 3
   },
   "file_extension": ".py",
   "mimetype": "text/x-python",
   "name": "python",
   "nbconvert_exporter": "python",
   "pygments_lexer": "ipython3",
   "version": "3.12.4"
  }
 },
 "nbformat": 4,
 "nbformat_minor": 4
}

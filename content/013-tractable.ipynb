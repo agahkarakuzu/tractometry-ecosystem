{
 "cells": [
  {
   "cell_type": "markdown",
   "metadata": {},
   "source": [
    "# Fitting Generalized Additive Models (GAMs)\n",
    "\n",
    "This vignette demonstrates the use of GAMs for statistical analysis of tract profile data. The data we will use here contains tract profiles from diffusion MRI measurements in a group of patients with Amyotrophic Lateral Sclerosis (ALS) and a group of matched controls (Sarica, 2017)."
   ]
  },
  {
   "cell_type": "markdown",
   "id": "4071e670",
   "metadata": {},
   "source": [
    "## Setup\n",
    "\n",
    "We start by loading the `tractable` library:\n",
    "\n",
    "```r\n",
    "library(tractable)\n",
    "```"
   ]
  },
  {
   "cell_type": "markdown",
   "id": "92676f0a",
   "metadata": {},
   "source": [
    "## Load Data\n",
    "\n",
    "Next, we will use a function that is included in `tractable` to read this dataset directly into memory. Importantly, both the group (\"ALS\" or \"CTRL\") and the subject identifier (\"subjectID\") need to be factors for subsequent analysis to work properly.\n",
    "\n",
    "```r\n",
    "df_sarica <- read_afq_sarica(na_omit = TRUE)\n",
    "df_sarica\n",
    "```"
   ]
  },
  {
   "cell_type": "markdown",
   "id": "f9798012",
   "metadata": {},
   "source": [
    "## Visualize Data\n",
    "\n",
    "First, let's visualize the data. We use the `plot_tract_profiles` function, selecting to view both fractional anisotropy (FA) and mean diffusivity profiles in two tracts: the right corticospinal tract (CST) and the right superior longitudinal fasciculus (SLF), which are identified in the \"tractID\" column of this dataset.\n",
    "\n",
    "```r\n",
    "plot_handles <- plot_tract_profiles(\n",
    "  df          = df_sarica,\n",
    "  y           = c(\"fa\", \"md\"),\n",
    "  tracts      = c(\"Right Corticospinal\", \"Right SLF\"),\n",
    "  group_col   = \"group\",\n",
    "  save_figure = FALSE\n",
    ")\n",
    "```\n",
    "\n",
    "### FA Plot\n",
    "```r\n",
    "plot_handles$fa\n",
    "```\n",
    "\n",
    "### MD Plot\n",
    "```r\n",
    "plot_handles$md\n",
    "```\n",
    "\n",
    "We can already see that ALS has a profound effect on the tract profiles of the CST, but does not affect SLF as much."
   ]
  },
  {
   "cell_type": "markdown",
   "metadata": {},
   "source": [
    "## Fit GAM Model to CST Data\n",
    "\n",
    "We will use GAMs to quantify this in statistical terms. We start by fitting a GAM model to the data from the CST. Using the `tractable_single_tract` function, we select the Right CST data, and focus here only on FA. We use \"group\" and \"age\" as relevant covariates. Comparing group as a main effect, that will also be used to fit separate smooth functions for each category of subjects. The `mgcv` GAM functions use a parameter `k` to determine how many spline functions to use in fitting the smooth change of FA over the length of the tract. We use an automated strategy to find `k`.\n",
    "\n",
    "```r\n",
    "cst_fit <- tractable_single_tract(\n",
    "  df         = df_sarica,\n",
    "  tract      = \"Right Corticospinal\",\n",
    "  target     = \"fa\",\n",
    "  regressors = c(\"age\", \"group\"),\n",
    "  node_group = \"group\",\n",
    "  k          = \"auto\"\n",
    ")\n",
    "\n",
    "cst_summary <- summary(cst_fit)\n",
    "cst_summary\n",
    "```\n",
    "\n",
    "Examining the summary of the resulting GAM fit object shows us that the `k = 9` is sufficiently large to describe the spatial variation of tract profile data. In addition, we see that there is a statistically significant effect of group (with a p-value of `r cst_summary$p.table[\"groupCTRL\", \"Pr(>|t|)\"]`) and no statistically significant effect of age (p = `r cst_summary$p.table[\"age\", \"Pr(>|t|)\"]`)."
   ]
  },
  {
   "cell_type": "markdown",
   "metadata": {},
   "source": [
    "## Fit GAM Model to SLF Data\n",
    "\n",
    "Running the same analysis on the data from SLF, we see that there is no significant difference between the groups in this tract, indicating that the effect observed in CST is rather specific to this tract.\n",
    "\n",
    "```r\n",
    "slf_fit <- tractable_single_tract(\n",
    "  df         = df_sarica,\n",
    "  tract      = \"Right SLF\",\n",
    "  target     = \"fa\",\n",
    "  regressors = c(\"age\", \"group\"),\n",
    "  node_group = \"group\",\n",
    "  k          = \"auto\"\n",
    ")\n",
    "\n",
    "slf_summary <- summary(slf_fit)\n",
    "slf_summary\n",
    "```"
   ]
  }
 ],
 "metadata": {
  "kernelspec": {
   "display_name": "R",
   "language": "R",
   "name": "ir"
  },
  "language_info": {
   "codemirror_mode": "r",
   "file_extension": ".r",
   "mimetype": "text/x-r-source",
   "name": "R",
   "pygments_lexer": "r",
   "version": "4.3.2"
  }
 },
 "nbformat": 4,
 "nbformat_minor": 5
}
